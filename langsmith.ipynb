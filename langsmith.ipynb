{
 "cells": [
  {
   "cell_type": "code",
   "execution_count": 2,
   "metadata": {},
   "outputs": [
    {
     "name": "stdout",
     "output_type": "stream",
     "text": [
      "\n",
      "\n",
      "\u001b[1m> Entering new AgentExecutor chain...\u001b[0m\n",
      "\u001b[32;1m\u001b[1;3m```json\n",
      "{\n",
      "    \"action\": \"Final Answer\",\n",
      "    \"action_input\": \"The capital of Norway is Oslo.\"\n",
      "}\n",
      "```\u001b[0m\n",
      "\n",
      "\u001b[1m> Finished chain.\u001b[0m\n",
      "\n",
      "\n",
      "\u001b[1m> Entering new AgentExecutor chain...\u001b[0m\n",
      "\u001b[32;1m\u001b[1;3m```json\n",
      "{\n",
      "    \"action\": \"Final Answer\",\n",
      "    \"action_input\": \"One famous vegetarian food in Norway is Fårikål, a traditional dish that can be adapted for vegetarians by using vegetables and vegetable broth instead of meat.\"\n",
      "}\n",
      "```\u001b[0m\n",
      "\n",
      "\u001b[1m> Finished chain.\u001b[0m\n",
      "\n",
      "\n",
      "\u001b[1m> Entering new AgentExecutor chain...\u001b[0m\n",
      "\u001b[32;1m\u001b[1;3m```json\n",
      "{\n",
      "    \"action\": \"Final Answer\",\n",
      "    \"action_input\": \"I don't have the capability to provide recipes directly. I recommend checking a reliable recipe website or cookbook for detailed recipes. If you're looking for vegetarian options, you might consider typical Norwegian ingredients like root vegetables, mushrooms, and dairy products to create a dish.\"\n",
      "}\n",
      "```\u001b[0m\n",
      "\n",
      "\u001b[1m> Finished chain.\u001b[0m\n"
     ]
    },
    {
     "data": {
      "text/plain": [
       "\"I don't have the capability to provide recipes directly. I recommend checking a reliable recipe website or cookbook for detailed recipes. If you're looking for vegetarian options, you might consider typical Norwegian ingredients like root vegetables, mushrooms, and dairy products to create a dish.\""
      ]
     },
     "execution_count": 2,
     "metadata": {},
     "output_type": "execute_result"
    }
   ],
   "source": [
    "from dotenv import load_dotenv, find_dotenv\n",
    "from langchain.memory import ConversationBufferMemory\n",
    "from langchain.chat_models import ChatOpenAI\n",
    "from langchain.agents import AgentType, initialize_agent\n",
    "from langchain.tools import BaseTool\n",
    "\n",
    "\n",
    "class SquareTool(BaseTool):\n",
    "    name: str = \"Multiply tool\"\n",
    "    description: str = \"Calculates the square of a single integer input\"\n",
    "    def _run(self, query: int ) -> int:\n",
    "        if isinstance(query, str):\n",
    "            try:\n",
    "                print(f\"Query: {query}\")\n",
    "                query = int(query.split(\"*\")[0].strip())\n",
    "            except ValueError as e:\n",
    "                raise ValueError(\"Invalid input format. Expected an integer or a valid expression.\") from e\n",
    "        else:\n",
    "            print(f\"Query: {query}\")\n",
    "        return query * query\n",
    "\n",
    "tools = [SquareTool()]\n",
    "llm = ChatOpenAI(model=\"gpt-4-turbo\")\n",
    "memory = ConversationBufferMemory(memory_key=\"chat_history\", return_messages= True)\n",
    "\n",
    "agent = initialize_agent(\n",
    "    tools,\n",
    "    llm,\n",
    "    agent=AgentType.CHAT_CONVERSATIONAL_REACT_DESCRIPTION,\n",
    "    memory=memory,\n",
    "    verbose=True\n",
    ")\n",
    "\n",
    "#print(agent.agent.llm_chain.prompt.messages)\n",
    "\n",
    "agent.run(\"what is the capital of norway\")\n",
    "agent.run(\"what is their famous vegetarian food\")\n",
    "agent.run(\"provide the recipe\")"
   ]
  }
 ],
 "metadata": {
  "kernelspec": {
   "display_name": "venv",
   "language": "python",
   "name": "python3"
  },
  "language_info": {
   "codemirror_mode": {
    "name": "ipython",
    "version": 3
   },
   "file_extension": ".py",
   "mimetype": "text/x-python",
   "name": "python",
   "nbconvert_exporter": "python",
   "pygments_lexer": "ipython3",
   "version": "3.12.7"
  }
 },
 "nbformat": 4,
 "nbformat_minor": 2
}
