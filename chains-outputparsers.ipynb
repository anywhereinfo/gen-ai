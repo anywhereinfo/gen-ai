{
 "cells": [
  {
   "cell_type": "code",
   "execution_count": 26,
   "metadata": {},
   "outputs": [
    {
     "name": "stdout",
     "output_type": "stream",
     "text": [
      "Reasoning Output:\n",
      "The sentiment of the text is mixed:\n",
      "- Positive sentiment is expressed towards the \"stunning visual.\"\n",
      "- Negative sentiment is directed at the \"weak\" story line.\n",
      "\n",
      "Classification Output:\n",
      "Neutral\n"
     ]
    }
   ],
   "source": [
    "from langchain.prompts import PipelinePromptTemplate, PromptTemplate, ChatPromptTemplate, SystemMessagePromptTemplate, HumanMessagePromptTemplate, AIMessagePromptTemplate\n",
    "from langchain.chains import LLMChain, SequentialChain\n",
    "from langchain_openai import ChatOpenAI\n",
    "\n",
    "reasoning_chat_template = ChatPromptTemplate.from_messages([\n",
    "    SystemMessagePromptTemplate.from_template(\"You are a helpful assistant who provides sentiment analysis.\"),\n",
    "    HumanMessagePromptTemplate.from_template(\"Analyze the following text for sentiment:\\nText: {text}\")\n",
    "\n",
    "])\n",
    "\n",
    "classification_chat_template = ChatPromptTemplate.from_messages([\n",
    "    SystemMessagePromptTemplate.from_template(\"You are a helpful assistant who provides sentiment analysis.\"),\n",
    "    HumanMessagePromptTemplate.from_template(\"Based on the reasoning, classify the sentiment as Positive, Negative, or Neutral.\\nReasoning: {reasoning}\")\n",
    "])\n",
    "\n",
    "llm = ChatOpenAI(model=\"gpt-4-turbo\")\n",
    "\n",
    "reasoning_chain= LLMChain(llm=llm, prompt=reasoning_chat_template, output_key=\"reasoning\")\n",
    "classification_chain = LLMChain(llm=llm, prompt=classification_chat_template, output_key=\"classification\")\n",
    "#final_chain = LLMChain(llm=llm, prompt=final_template, output_key=\"final_output\")\n",
    "\n",
    "input_text = {\"text\": \"the movie had stunning visual, but the story line was weak\"}\n",
    "\n",
    "sequential_chain = SequentialChain(\n",
    "    chains=[reasoning_chain, classification_chain],\n",
    "    input_variables=[\"text\"],\n",
    "    output_variables=[\"reasoning\", \"classification\"]\n",
    ")\n",
    "\n",
    "\n",
    "pipeline_result = sequential_chain(input_text)\n",
    "\n",
    "# Access the individual outputs\n",
    "reasoning_output = pipeline_result[\"reasoning\"]\n",
    "classification_output = pipeline_result[\"classification\"]\n",
    "\n",
    "# Display the results\n",
    "print(\"Reasoning Output:\")\n",
    "print(reasoning_output)\n",
    "print(\"\\nClassification Output:\")\n",
    "print(classification_output)"
   ]
  },
  {
   "cell_type": "code",
   "execution_count": 36,
   "metadata": {},
   "outputs": [
    {
     "name": "stdout",
     "output_type": "stream",
     "text": [
      "{'text': 'the movie had stunning visual, but the story line was weak', 'format_instructions': 'The output should be a markdown code snippet formatted in the following schema, including the leading and trailing \"```json\" and \"```\":\\n\\n```json\\n{\\n\\t\"reasoning\": string  // The explanation behind why this sentiment was assigned.\\n\\t\"sentiment\": string  // The sentiment of the text, which can be Positive, Negative, or Neutral.\\n}\\n```', 'reasoning': 'The sentiment of the text \"the movie had stunning visuals, but the storyline was weak\" is mixed.\\n\\n1. **Positive Aspect**: The phrase \"stunning visuals\" indicates a strong positive sentiment. The word \"stunning\" is a powerful adjective that conveys exceptional quality or beauty, which suggests that the visual elements of the movie were highly impressive and pleasing.\\n\\n2. **Negative Aspect**: The contrasting conjunction \"but\" introduces a negative sentiment, with \"the storyline was weak.\" The word \"weak\" is a negative adjective that implies the storyline lacked strength, depth, or was poorly developed. This part of the sentence brings in disappointment or dissatisfaction with the narrative aspect of the movie.\\n\\nOverall, the sentiment is mixed because the text contains a positive comment about the visuals balanced by a negative comment about the storyline. This reflects a nuanced view where the movie is appreciated for its aesthetic appeal but criticized for its narrative content.', 'classification': '```json\\n{\\n\\t\"reasoning\": \"The sentiment of the text \\'the movie had stunning visuals, but the storyline was weak\\' is mixed. The positive aspect is indicated by the phrase \\'stunning visuals\\', which conveys a strong positive sentiment about the visual quality of the movie. Conversely, the negative aspect is introduced by the contrasting conjunction \\'but\\', followed by \\'the storyline was weak\\', a negative sentiment indicating dissatisfaction with the movie\\'s narrative content. Therefore, the sentiment is mixed, reflecting both appreciation and criticism.\",\\n\\t\"sentiment\": \"Mixed\"\\n}\\n```'}\n",
      "{'reasoning': \"The sentiment of the text 'the movie had stunning visuals, but the storyline was weak' is mixed. The positive aspect is indicated by the phrase 'stunning visuals', which conveys a strong positive sentiment about the visual quality of the movie. Conversely, the negative aspect is introduced by the contrasting conjunction 'but', followed by 'the storyline was weak', a negative sentiment indicating dissatisfaction with the movie's narrative content. Therefore, the sentiment is mixed, reflecting both appreciation and criticism.\", 'sentiment': 'Mixed'}\n",
      "Final JSON Output:\n",
      "{\n",
      "  \"reasoning\": \"The sentiment of the text 'the movie had stunning visuals, but the storyline was weak' is mixed. The positive aspect is indicated by the phrase 'stunning visuals', which conveys a strong positive sentiment about the visual quality of the movie. Conversely, the negative aspect is introduced by the contrasting conjunction 'but', followed by 'the storyline was weak', a negative sentiment indicating dissatisfaction with the movie's narrative content. Therefore, the sentiment is mixed, reflecting both appreciation and criticism.\",\n",
      "  \"sentiment\": \"Mixed\"\n",
      "}\n"
     ]
    }
   ],
   "source": [
    "from langchain.prompts import ChatPromptTemplate, SystemMessagePromptTemplate, HumanMessagePromptTemplate\n",
    "from langchain.chains import LLMChain, SequentialChain\n",
    "from langchain.output_parsers import ResponseSchema, StructuredOutputParser\n",
    "from langchain_openai import ChatOpenAI\n",
    "import json\n",
    "\n",
    "# Define the ResponseSchemas\n",
    "sentiment_schema = ResponseSchema(\n",
    "    name=\"sentiment\",\n",
    "    description=\"The sentiment of the text, which can be Positive, Negative, or Neutral.\"\n",
    ")\n",
    "\n",
    "reasoning_schema = ResponseSchema(\n",
    "    name=\"reasoning\",\n",
    "    description=\"The explanation behind why this sentiment was assigned.\"\n",
    ")\n",
    "\n",
    "# Create a StructuredOutputParser\n",
    "parser = StructuredOutputParser.from_response_schemas([reasoning_schema, sentiment_schema])\n",
    "\n",
    "# Create format instructions for the parser\n",
    "format_instructions = parser.get_format_instructions()\n",
    "\n",
    "# Define the prompt templates\n",
    "reasoning_chat_template = ChatPromptTemplate.from_messages([\n",
    "    SystemMessagePromptTemplate.from_template(\"You are a helpful assistant who provides sentiment analysis.\"),\n",
    "    HumanMessagePromptTemplate.from_template(\"Analyze the following text for sentiment and provide a detailed reasoning:\\n\\nText: {text}\")\n",
    "])\n",
    "\n",
    "classification_chat_template = ChatPromptTemplate.from_messages([\n",
    "    SystemMessagePromptTemplate.from_template(\"You are a helpful assistant who provides sentiment classification.\"),\n",
    "    HumanMessagePromptTemplate.from_template(\n",
    "        \"Based on the reasoning provided, classify the sentiment as Positive, Negative, or Neutral. \"\n",
    "        \"Use the specified JSON format:\\nReasoning: {reasoning}\\n{format_instructions}\"\n",
    "    )\n",
    "])\n",
    "\n",
    "\n",
    "# Initialize the LLM\n",
    "llm = ChatOpenAI(model=\"gpt-4-turbo\")\n",
    "\n",
    "# Create the individual chains\n",
    "reasoning_chain = LLMChain(llm=llm, prompt=reasoning_chat_template, output_key=\"reasoning\")\n",
    "classification_chain = LLMChain(llm=llm, prompt=classification_chat_template, output_key=\"classification\")\n",
    "\n",
    "# Input text for analysis\n",
    "input_text = {\"text\": \"the movie had stunning visual, but the story line was weak\",\n",
    "              \"format_instructions\": format_instructions\n",
    "              }\n",
    "\n",
    "# Set up the SequentialChain\n",
    "sequential_chain = SequentialChain(\n",
    "    chains=[reasoning_chain, classification_chain],\n",
    "    input_variables=[\"text\", \"format_instructions\"],\n",
    "    output_variables=[\"reasoning\", \"classification\"]\n",
    ")\n",
    "\n",
    "# Run the SequentialChain\n",
    "pipeline_result = sequential_chain(input_text)\n",
    "\n",
    "# Parse the output using the parser\n",
    "parsed_output = parser.parse(pipeline_result[\"classification\"])\n",
    "\n",
    "# Print the final JSON string\n",
    "print(\"Final JSON Output:\")\n",
    "print(json.dumps(parsed_output, indent=2))\n"
   ]
  },
  {
   "cell_type": "code",
   "execution_count": null,
   "metadata": {},
   "outputs": [],
   "source": []
  },
  {
   "cell_type": "markdown",
   "metadata": {},
   "source": [
    " MultiPrmoptChain, LLMRouterChain , MULT_PROMPT_ROUTER_TEMPLATE"
   ]
  },
  {
   "cell_type": "code",
   "execution_count": 74,
   "metadata": {},
   "outputs": [
    {
     "name": "stdout",
     "output_type": "stream",
     "text": [
      "Output: {'input': 'The new movie has stunning visuals but lacks a compelling storyline.', 'text': 'The sentiment expressed in this movie review is mixed:\\n\\n1. Positive Aspect: The review starts on a positive note by praising the \"stunning visuals\" of the movie. This highlights a strong appreciation for the cinematography or visual effects, which is a positive sentiment towards the technical or aesthetic execution of the film.\\n\\n2. Negative Aspect: The review then points out a significant drawback, stating that the movie \"lacks a compelling storyline.\" This indicates dissatisfaction with the narrative aspect of the movie, suggesting that it fails to engage the viewer fully or effectively in terms of its plot or story development.\\n\\nOverall, the sentiment of the review balances between appreciation of the visual elements and criticism of the narrative structure, resulting in a mixed overall sentiment.'}\n"
     ]
    }
   ],
   "source": [
    "from langchain.prompts import PromptTemplate\n",
    "from langchain.chains import MultiPromptChain\n",
    "from langchain_openai import ChatOpenAI\n",
    "\n",
    "# Initialize the LLM\n",
    "llm = ChatOpenAI(model=\"gpt-4-turbo\")\n",
    "\n",
    "# Define prompt information for different scenarios\n",
    "prompt_infos = [\n",
    "    {\n",
    "        \"name\": \"Movie Review\",\n",
    "        \"description\": \"Good for analyzing movie reviews\",\n",
    "        \"prompt_template\": \"Analyze the following movie review for sentiment:\\n\\nReview: {input}\"\n",
    "    },\n",
    "    {\n",
    "        \"name\": \"Finance\",\n",
    "        \"description\": \"Good for analyzing financial news\",\n",
    "        \"prompt_template\": \"Analyze the following financial news article for key insights:\\n\\nArticle: {input}\"\n",
    "    },\n",
    "    {\n",
    "        \"name\": \"Science\",\n",
    "        \"description\": \"Good for summarizing scientific articles\",\n",
    "        \"prompt_template\": \"Summarize the following scientific article and highlight the key findings:\\n\\nArticle: {input}\"\n",
    "    }\n",
    "]\n",
    "\n",
    "# Create MultiPromptChain from prompt information\n",
    "multi_prompt_chain = MultiPromptChain.from_prompts(llm=llm, prompt_infos=prompt_infos)\n",
    "\n",
    "# Example input text\n",
    "input_text = {\n",
    "    \"input\": \"The new movie has stunning visuals but lacks a compelling storyline.\"\n",
    "}\n",
    "\n",
    "# Run the MultiPromptChain\n",
    "try:\n",
    "    result = multi_prompt_chain(input_text)\n",
    "    print(\"Output:\", result)\n",
    "except Exception as e:\n",
    "    print(f\"Error running MultiPromptChain: {e}\")\n"
   ]
  }
 ],
 "metadata": {
  "kernelspec": {
   "display_name": "venv",
   "language": "python",
   "name": "python3"
  },
  "language_info": {
   "codemirror_mode": {
    "name": "ipython",
    "version": 3
   },
   "file_extension": ".py",
   "mimetype": "text/x-python",
   "name": "python",
   "nbconvert_exporter": "python",
   "pygments_lexer": "ipython3",
   "version": "3.12.7"
  }
 },
 "nbformat": 4,
 "nbformat_minor": 2
}
